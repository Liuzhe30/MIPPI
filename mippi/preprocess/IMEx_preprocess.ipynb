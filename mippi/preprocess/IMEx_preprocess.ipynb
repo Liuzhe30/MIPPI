{
 "cells": [
  {
   "cell_type": "code",
   "execution_count": 1,
   "metadata": {},
   "outputs": [],
   "source": [
    "import pandas as pd\n",
    "import numpy as np\n",
    "import os\n",
    "from collections import Counter\n",
    "import re"
   ]
  },
  {
   "cell_type": "markdown",
   "metadata": {},
   "source": [
    "# preprocessing mutation.tsv"
   ]
  },
  {
   "cell_type": "code",
   "execution_count": 11,
   "metadata": {},
   "outputs": [
    {
     "name": "stdout",
     "output_type": "stream",
     "text": [
      "(58250, 15)\n"
     ]
    },
    {
     "data": {
      "text/html": [
       "<div>\n",
       "<style scoped>\n",
       "    .dataframe tbody tr th:only-of-type {\n",
       "        vertical-align: middle;\n",
       "    }\n",
       "\n",
       "    .dataframe tbody tr th {\n",
       "        vertical-align: top;\n",
       "    }\n",
       "\n",
       "    .dataframe thead th {\n",
       "        text-align: right;\n",
       "    }\n",
       "</style>\n",
       "<table border=\"1\" class=\"dataframe\">\n",
       "  <thead>\n",
       "    <tr style=\"text-align: right;\">\n",
       "      <th></th>\n",
       "      <th>#Feature AC</th>\n",
       "      <th>Feature short label</th>\n",
       "      <th>Feature range(s)</th>\n",
       "      <th>Original sequence</th>\n",
       "      <th>Resulting sequence</th>\n",
       "      <th>Feature type</th>\n",
       "      <th>Feature annotation</th>\n",
       "      <th>Affected protein AC</th>\n",
       "      <th>Affected protein symbol</th>\n",
       "      <th>Affected protein full name</th>\n",
       "      <th>Affected protein organism</th>\n",
       "      <th>Interaction participants</th>\n",
       "      <th>PubMedID</th>\n",
       "      <th>Figure legend</th>\n",
       "      <th>Interaction AC</th>\n",
       "    </tr>\n",
       "  </thead>\n",
       "  <tbody>\n",
       "    <tr>\n",
       "      <th>0</th>\n",
       "      <td>EBI-6915452</td>\n",
       "      <td>p.[Leu83Ala;Leu87Ala;Leu91Ala]</td>\n",
       "      <td>83-83</td>\n",
       "      <td>L</td>\n",
       "      <td>A</td>\n",
       "      <td>mutation(MI:0118)</td>\n",
       "      <td></td>\n",
       "      <td>uniprotkb:P03243-1</td>\n",
       "      <td>p03243-1</td>\n",
       "      <td></td>\n",
       "      <td>28285 - Human adenovirus C serotype 5 (HAdV-5)</td>\n",
       "      <td>uniprotkb:P03243-1(protein(MI:0326), 28285 - H...</td>\n",
       "      <td>20639899</td>\n",
       "      <td>Fig. 1d</td>\n",
       "      <td>EBI-2941418</td>\n",
       "    </tr>\n",
       "    <tr>\n",
       "      <th>1</th>\n",
       "      <td>EBI-6915452</td>\n",
       "      <td>p.[Leu83Ala;Leu87Ala;Leu91Ala]</td>\n",
       "      <td>87-87</td>\n",
       "      <td>L</td>\n",
       "      <td>A</td>\n",
       "      <td>mutation(MI:0118)</td>\n",
       "      <td></td>\n",
       "      <td>uniprotkb:P03243-1</td>\n",
       "      <td>p03243-1</td>\n",
       "      <td></td>\n",
       "      <td>28285 - Human adenovirus C serotype 5 (HAdV-5)</td>\n",
       "      <td>uniprotkb:P03243-1(protein(MI:0326), 28285 - H...</td>\n",
       "      <td>20639899</td>\n",
       "      <td>Fig. 1d</td>\n",
       "      <td>EBI-2941418</td>\n",
       "    </tr>\n",
       "    <tr>\n",
       "      <th>2</th>\n",
       "      <td>EBI-6915452</td>\n",
       "      <td>p.[Leu83Ala;Leu87Ala;Leu91Ala]</td>\n",
       "      <td>91-91</td>\n",
       "      <td>L</td>\n",
       "      <td>A</td>\n",
       "      <td>mutation(MI:0118)</td>\n",
       "      <td></td>\n",
       "      <td>uniprotkb:P03243-1</td>\n",
       "      <td>p03243-1</td>\n",
       "      <td></td>\n",
       "      <td>28285 - Human adenovirus C serotype 5 (HAdV-5)</td>\n",
       "      <td>uniprotkb:P03243-1(protein(MI:0326), 28285 - H...</td>\n",
       "      <td>20639899</td>\n",
       "      <td>Fig. 1d</td>\n",
       "      <td>EBI-2941418</td>\n",
       "    </tr>\n",
       "    <tr>\n",
       "      <th>3</th>\n",
       "      <td>EBI-6925687</td>\n",
       "      <td>p.Cys169Ser</td>\n",
       "      <td>169-169</td>\n",
       "      <td>C</td>\n",
       "      <td>S</td>\n",
       "      <td>mutation(MI:0118)</td>\n",
       "      <td></td>\n",
       "      <td>uniprotkb:P0A6H1</td>\n",
       "      <td>clpX</td>\n",
       "      <td></td>\n",
       "      <td>83333 - Escherichia coli (strain K12)</td>\n",
       "      <td>uniprotkb:P0A6H1(protein(MI:0326), 83333 - Esc...</td>\n",
       "      <td>23622246</td>\n",
       "      <td>Supp Fig. 2A</td>\n",
       "      <td>EBI-6925660</td>\n",
       "    </tr>\n",
       "    <tr>\n",
       "      <th>4</th>\n",
       "      <td>EBI-6898360</td>\n",
       "      <td>p.Phe508del</td>\n",
       "      <td>508-508</td>\n",
       "      <td>F</td>\n",
       "      <td>.</td>\n",
       "      <td>mutation(MI:0118)</td>\n",
       "      <td></td>\n",
       "      <td>uniprotkb:P13569</td>\n",
       "      <td>CFTR</td>\n",
       "      <td></td>\n",
       "      <td>9606 - Homo sapiens</td>\n",
       "      <td>uniprotkb:P13569(protein(MI:0326), 9606 - Homo...</td>\n",
       "      <td>22038833</td>\n",
       "      <td>1B, 4B</td>\n",
       "      <td>EBI-6898336</td>\n",
       "    </tr>\n",
       "  </tbody>\n",
       "</table>\n",
       "</div>"
      ],
      "text/plain": [
       "   #Feature AC             Feature short label Feature range(s)  \\\n",
       "0  EBI-6915452  p.[Leu83Ala;Leu87Ala;Leu91Ala]            83-83   \n",
       "1  EBI-6915452  p.[Leu83Ala;Leu87Ala;Leu91Ala]            87-87   \n",
       "2  EBI-6915452  p.[Leu83Ala;Leu87Ala;Leu91Ala]            91-91   \n",
       "3  EBI-6925687                     p.Cys169Ser          169-169   \n",
       "4  EBI-6898360                     p.Phe508del          508-508   \n",
       "\n",
       "  Original sequence Resulting sequence       Feature type Feature annotation  \\\n",
       "0                 L                  A  mutation(MI:0118)                      \n",
       "1                 L                  A  mutation(MI:0118)                      \n",
       "2                 L                  A  mutation(MI:0118)                      \n",
       "3                 C                  S  mutation(MI:0118)                      \n",
       "4                 F                  .  mutation(MI:0118)                      \n",
       "\n",
       "  Affected protein AC Affected protein symbol Affected protein full name  \\\n",
       "0  uniprotkb:P03243-1                p03243-1                              \n",
       "1  uniprotkb:P03243-1                p03243-1                              \n",
       "2  uniprotkb:P03243-1                p03243-1                              \n",
       "3    uniprotkb:P0A6H1                    clpX                              \n",
       "4    uniprotkb:P13569                    CFTR                              \n",
       "\n",
       "                        Affected protein organism  \\\n",
       "0  28285 - Human adenovirus C serotype 5 (HAdV-5)   \n",
       "1  28285 - Human adenovirus C serotype 5 (HAdV-5)   \n",
       "2  28285 - Human adenovirus C serotype 5 (HAdV-5)   \n",
       "3           83333 - Escherichia coli (strain K12)   \n",
       "4                             9606 - Homo sapiens   \n",
       "\n",
       "                            Interaction participants  PubMedID Figure legend  \\\n",
       "0  uniprotkb:P03243-1(protein(MI:0326), 28285 - H...  20639899       Fig. 1d   \n",
       "1  uniprotkb:P03243-1(protein(MI:0326), 28285 - H...  20639899       Fig. 1d   \n",
       "2  uniprotkb:P03243-1(protein(MI:0326), 28285 - H...  20639899       Fig. 1d   \n",
       "3  uniprotkb:P0A6H1(protein(MI:0326), 83333 - Esc...  23622246  Supp Fig. 2A   \n",
       "4  uniprotkb:P13569(protein(MI:0326), 9606 - Homo...  22038833        1B, 4B   \n",
       "\n",
       "  Interaction AC  \n",
       "0    EBI-2941418  \n",
       "1    EBI-2941418  \n",
       "2    EBI-2941418  \n",
       "3    EBI-6925660  \n",
       "4    EBI-6898336  "
      ]
     },
     "execution_count": 11,
     "metadata": {},
     "output_type": "execute_result"
    }
   ],
   "source": [
    "fileName = r'../data/raw/mutations.tsv'\n",
    "df = pd.read_csv(fileName, sep='\\t', keep_default_na=False)\n",
    "print(df.shape)\n",
    "df.head()"
   ]
  },
  {
   "cell_type": "code",
   "execution_count": 12,
   "metadata": {},
   "outputs": [
    {
     "data": {
      "text/plain": [
       "(47222, 15)"
      ]
     },
     "execution_count": 12,
     "metadata": {},
     "output_type": "execute_result"
    }
   ],
   "source": [
    "# drop high-throught\n",
    "df = df[~(df['Feature annotation'].str.contains('high-throughput'))]\n",
    "df.shape"
   ]
  },
  {
   "cell_type": "markdown",
   "metadata": {},
   "source": [
    "## drop entries with >2 participants, and drop entries that the number of partner don't match the number of uniprotAC. (to filter binary protein-protein interaction)"
   ]
  },
  {
   "cell_type": "code",
   "execution_count": 13,
   "metadata": {},
   "outputs": [
    {
     "name": "stdout",
     "output_type": "stream",
     "text": [
      "after delete items with more than 2 partners (43126, 17)\n",
      "after delete items with not identical number of partners and n_partner (35267, 17)\n"
     ]
    }
   ],
   "source": [
    "import re\n",
    "p = re.compile(r'uniprotkb:(.*?)[(]', re.S)\n",
    "partner = []\n",
    "n_partner = []\n",
    "count = 0\n",
    "for i in df['Interaction participants']:\n",
    "    tmp = re.findall(p, i)\n",
    "#     num = re.findall(p2, i)\n",
    "    num = i.count(';') + 1\n",
    "    partner.append(tmp)\n",
    "    n_partner.append(num)\n",
    "df['partners'] = partner\n",
    "df['n_partner'] = n_partner\n",
    "\n",
    "df = df[df['n_partner'] < 3]\n",
    "print('after delete items with more than 2 partners {}'.format(df.shape))\n",
    "df = df[df['partners'].apply(lambda x: len(x)) == df['n_partner']]\n",
    "print('after delete items with not identical number of partners and n_partner {}'.format(df.shape))"
   ]
  },
  {
   "cell_type": "markdown",
   "metadata": {},
   "source": [
    "## drop entries with same interactionAC but different affected protein AC (drop same interaction with multiple mutations)"
   ]
  },
  {
   "cell_type": "code",
   "execution_count": 14,
   "metadata": {},
   "outputs": [
    {
     "name": "stdout",
     "output_type": "stream",
     "text": [
      "(34712, 17)\n"
     ]
    }
   ],
   "source": [
    "df1 = df[df.duplicated(['Affected protein AC', 'Interaction AC'], keep=False)] # choose items with same interactAC-aff pro AC pair\n",
    "df2 = df.drop_duplicates(['Interaction AC'], keep=False) # choose items with only one time interactionAC\n",
    "df = pd.concat([df1, df2])\n",
    "print(df.shape)"
   ]
  },
  {
   "cell_type": "markdown",
   "metadata": {},
   "source": [
    "## drop entries without uniprotAC"
   ]
  },
  {
   "cell_type": "code",
   "execution_count": 15,
   "metadata": {},
   "outputs": [
    {
     "name": "stdout",
     "output_type": "stream",
     "text": [
      "(34696, 17)\n"
     ]
    }
   ],
   "source": [
    "df = df[df['Affected protein AC'].str.contains('uniprotkb:', na=False)]\n",
    "print(df.shape)"
   ]
  },
  {
   "cell_type": "markdown",
   "metadata": {},
   "source": [
    "## simplify uniprotkb label"
   ]
  },
  {
   "cell_type": "code",
   "execution_count": 16,
   "metadata": {
    "scrolled": true
   },
   "outputs": [
    {
     "data": {
      "text/html": [
       "<div>\n",
       "<style scoped>\n",
       "    .dataframe tbody tr th:only-of-type {\n",
       "        vertical-align: middle;\n",
       "    }\n",
       "\n",
       "    .dataframe tbody tr th {\n",
       "        vertical-align: top;\n",
       "    }\n",
       "\n",
       "    .dataframe thead th {\n",
       "        text-align: right;\n",
       "    }\n",
       "</style>\n",
       "<table border=\"1\" class=\"dataframe\">\n",
       "  <thead>\n",
       "    <tr style=\"text-align: right;\">\n",
       "      <th></th>\n",
       "      <th>#Feature AC</th>\n",
       "      <th>Feature short label</th>\n",
       "      <th>Feature range(s)</th>\n",
       "      <th>Original sequence</th>\n",
       "      <th>Resulting sequence</th>\n",
       "      <th>Feature type</th>\n",
       "      <th>Feature annotation</th>\n",
       "      <th>Affected protein AC</th>\n",
       "      <th>Affected protein symbol</th>\n",
       "      <th>Affected protein full name</th>\n",
       "      <th>Affected protein organism</th>\n",
       "      <th>Interaction participants</th>\n",
       "      <th>PubMedID</th>\n",
       "      <th>Figure legend</th>\n",
       "      <th>Interaction AC</th>\n",
       "      <th>partners</th>\n",
       "      <th>n_partner</th>\n",
       "    </tr>\n",
       "  </thead>\n",
       "  <tbody>\n",
       "    <tr>\n",
       "      <th>0</th>\n",
       "      <td>EBI-6915452</td>\n",
       "      <td>p.[Leu83Ala;Leu87Ala;Leu91Ala]</td>\n",
       "      <td>83-83</td>\n",
       "      <td>L</td>\n",
       "      <td>A</td>\n",
       "      <td>mutation(MI:0118)</td>\n",
       "      <td></td>\n",
       "      <td>P03243-1</td>\n",
       "      <td>p03243-1</td>\n",
       "      <td></td>\n",
       "      <td>28285 - Human adenovirus C serotype 5 (HAdV-5)</td>\n",
       "      <td>uniprotkb:P03243-1(protein(MI:0326), 28285 - H...</td>\n",
       "      <td>20639899</td>\n",
       "      <td>Fig. 1d</td>\n",
       "      <td>EBI-2941418</td>\n",
       "      <td>[P03243-1, F1M589]</td>\n",
       "      <td>2</td>\n",
       "    </tr>\n",
       "    <tr>\n",
       "      <th>1</th>\n",
       "      <td>EBI-6915452</td>\n",
       "      <td>p.[Leu83Ala;Leu87Ala;Leu91Ala]</td>\n",
       "      <td>87-87</td>\n",
       "      <td>L</td>\n",
       "      <td>A</td>\n",
       "      <td>mutation(MI:0118)</td>\n",
       "      <td></td>\n",
       "      <td>P03243-1</td>\n",
       "      <td>p03243-1</td>\n",
       "      <td></td>\n",
       "      <td>28285 - Human adenovirus C serotype 5 (HAdV-5)</td>\n",
       "      <td>uniprotkb:P03243-1(protein(MI:0326), 28285 - H...</td>\n",
       "      <td>20639899</td>\n",
       "      <td>Fig. 1d</td>\n",
       "      <td>EBI-2941418</td>\n",
       "      <td>[P03243-1, F1M589]</td>\n",
       "      <td>2</td>\n",
       "    </tr>\n",
       "    <tr>\n",
       "      <th>2</th>\n",
       "      <td>EBI-6915452</td>\n",
       "      <td>p.[Leu83Ala;Leu87Ala;Leu91Ala]</td>\n",
       "      <td>91-91</td>\n",
       "      <td>L</td>\n",
       "      <td>A</td>\n",
       "      <td>mutation(MI:0118)</td>\n",
       "      <td></td>\n",
       "      <td>P03243-1</td>\n",
       "      <td>p03243-1</td>\n",
       "      <td></td>\n",
       "      <td>28285 - Human adenovirus C serotype 5 (HAdV-5)</td>\n",
       "      <td>uniprotkb:P03243-1(protein(MI:0326), 28285 - H...</td>\n",
       "      <td>20639899</td>\n",
       "      <td>Fig. 1d</td>\n",
       "      <td>EBI-2941418</td>\n",
       "      <td>[P03243-1, F1M589]</td>\n",
       "      <td>2</td>\n",
       "    </tr>\n",
       "    <tr>\n",
       "      <th>5</th>\n",
       "      <td>EBI-6925862</td>\n",
       "      <td>p.Cys169Ser</td>\n",
       "      <td>169-169</td>\n",
       "      <td>C</td>\n",
       "      <td>S</td>\n",
       "      <td>mutation(MI:0118)</td>\n",
       "      <td></td>\n",
       "      <td>P0A6H1</td>\n",
       "      <td>clpX</td>\n",
       "      <td></td>\n",
       "      <td>83333 - Escherichia coli (strain K12)</td>\n",
       "      <td>uniprotkb:P0A6H1(protein(MI:0326), 83333 - Esc...</td>\n",
       "      <td>23622246</td>\n",
       "      <td>Supp Fig. 2C</td>\n",
       "      <td>EBI-6925855</td>\n",
       "      <td>[P0A6H1, P0A6H1]</td>\n",
       "      <td>2</td>\n",
       "    </tr>\n",
       "    <tr>\n",
       "      <th>13</th>\n",
       "      <td>EBI-8875481</td>\n",
       "      <td>p.Ile204Tyr</td>\n",
       "      <td>204-204</td>\n",
       "      <td>I</td>\n",
       "      <td>Y</td>\n",
       "      <td>mutation(MI:0118)</td>\n",
       "      <td></td>\n",
       "      <td>Q8TE30</td>\n",
       "      <td>q8te30_human</td>\n",
       "      <td></td>\n",
       "      <td>9606 - Homo sapiens</td>\n",
       "      <td>uniprotkb:Q8TE30(protein(MI:0326), 9606 - Homo...</td>\n",
       "      <td>24267889</td>\n",
       "      <td>Fig. 6F, Supp. Fig. 7H</td>\n",
       "      <td>EBI-8875425</td>\n",
       "      <td>[Q8TE30, Q9UN81]</td>\n",
       "      <td>2</td>\n",
       "    </tr>\n",
       "  </tbody>\n",
       "</table>\n",
       "</div>"
      ],
      "text/plain": [
       "    #Feature AC             Feature short label Feature range(s)  \\\n",
       "0   EBI-6915452  p.[Leu83Ala;Leu87Ala;Leu91Ala]            83-83   \n",
       "1   EBI-6915452  p.[Leu83Ala;Leu87Ala;Leu91Ala]            87-87   \n",
       "2   EBI-6915452  p.[Leu83Ala;Leu87Ala;Leu91Ala]            91-91   \n",
       "5   EBI-6925862                     p.Cys169Ser          169-169   \n",
       "13  EBI-8875481                     p.Ile204Tyr          204-204   \n",
       "\n",
       "   Original sequence Resulting sequence       Feature type Feature annotation  \\\n",
       "0                  L                  A  mutation(MI:0118)                      \n",
       "1                  L                  A  mutation(MI:0118)                      \n",
       "2                  L                  A  mutation(MI:0118)                      \n",
       "5                  C                  S  mutation(MI:0118)                      \n",
       "13                 I                  Y  mutation(MI:0118)                      \n",
       "\n",
       "   Affected protein AC Affected protein symbol Affected protein full name  \\\n",
       "0             P03243-1                p03243-1                              \n",
       "1             P03243-1                p03243-1                              \n",
       "2             P03243-1                p03243-1                              \n",
       "5               P0A6H1                    clpX                              \n",
       "13              Q8TE30            q8te30_human                              \n",
       "\n",
       "                         Affected protein organism  \\\n",
       "0   28285 - Human adenovirus C serotype 5 (HAdV-5)   \n",
       "1   28285 - Human adenovirus C serotype 5 (HAdV-5)   \n",
       "2   28285 - Human adenovirus C serotype 5 (HAdV-5)   \n",
       "5            83333 - Escherichia coli (strain K12)   \n",
       "13                             9606 - Homo sapiens   \n",
       "\n",
       "                             Interaction participants  PubMedID  \\\n",
       "0   uniprotkb:P03243-1(protein(MI:0326), 28285 - H...  20639899   \n",
       "1   uniprotkb:P03243-1(protein(MI:0326), 28285 - H...  20639899   \n",
       "2   uniprotkb:P03243-1(protein(MI:0326), 28285 - H...  20639899   \n",
       "5   uniprotkb:P0A6H1(protein(MI:0326), 83333 - Esc...  23622246   \n",
       "13  uniprotkb:Q8TE30(protein(MI:0326), 9606 - Homo...  24267889   \n",
       "\n",
       "             Figure legend Interaction AC            partners  n_partner  \n",
       "0                  Fig. 1d    EBI-2941418  [P03243-1, F1M589]          2  \n",
       "1                  Fig. 1d    EBI-2941418  [P03243-1, F1M589]          2  \n",
       "2                  Fig. 1d    EBI-2941418  [P03243-1, F1M589]          2  \n",
       "5             Supp Fig. 2C    EBI-6925855    [P0A6H1, P0A6H1]          2  \n",
       "13  Fig. 6F, Supp. Fig. 7H    EBI-8875425    [Q8TE30, Q9UN81]          2  "
      ]
     },
     "execution_count": 16,
     "metadata": {},
     "output_type": "execute_result"
    }
   ],
   "source": [
    "df['Affected protein AC'] = df['Affected protein AC'].str.replace('uniprotkb:', '')\n",
    "df.head()"
   ]
  },
  {
   "cell_type": "markdown",
   "metadata": {},
   "source": [
    "## delete 'mutation' feature type"
   ]
  },
  {
   "cell_type": "code",
   "execution_count": 17,
   "metadata": {},
   "outputs": [
    {
     "name": "stdout",
     "output_type": "stream",
     "text": [
      "(31792, 17)\n"
     ]
    }
   ],
   "source": [
    "df = df[~df['Feature type'].isin(['mutation(MI:0118)'])]\n",
    "print(df.shape)"
   ]
  },
  {
   "cell_type": "markdown",
   "metadata": {},
   "source": [
    "## delete non- regular acid items with same featureAC"
   ]
  },
  {
   "cell_type": "code",
   "execution_count": 18,
   "metadata": {},
   "outputs": [
    {
     "name": "stdout",
     "output_type": "stream",
     "text": [
      "(31791, 17)\n",
      "['EBI-8291032']\n"
     ]
    }
   ],
   "source": [
    "f_ = df[df['Resulting sequence'].str.contains('B|J|O|Z', na=False)]['#Feature AC'].tolist()\n",
    "df = df[~df['#Feature AC'].isin(f_)]\n",
    "print(df.shape)\n",
    "print(f_)"
   ]
  },
  {
   "cell_type": "markdown",
   "metadata": {},
   "source": [
    "## delete 'PRO_' uniprotAC in table"
   ]
  },
  {
   "cell_type": "code",
   "execution_count": 19,
   "metadata": {},
   "outputs": [
    {
     "data": {
      "text/plain": [
       "(31488, 17)"
      ]
     },
     "execution_count": 19,
     "metadata": {},
     "output_type": "execute_result"
    }
   ],
   "source": [
    "df = df[~df['Affected protein AC'].str.contains('PRO_')]\n",
    "df.shape"
   ]
  },
  {
   "cell_type": "markdown",
   "metadata": {},
   "source": [
    "## get all sequence from uniprot (prepare for uniprot fasta retrieve https://www.uniprot.org/uploadlists/)"
   ]
  },
  {
   "cell_type": "code",
   "execution_count": 21,
   "metadata": {},
   "outputs": [],
   "source": [
    "def flatlist(acList):\n",
    "    return [item for sublist in acList for item in sublist]\n",
    "\n",
    "ac1 = set(flatlist(df['partners'].values.tolist()))\n",
    "ac2 = set(df['Affected protein AC'].values.tolist())\n",
    "acAll = ac1 | ac2\n",
    "with open('acAll.txt', 'w') as f:\n",
    "    for x in acAll:\n",
    "        f.write(x + '\\n')\n"
   ]
  },
  {
   "cell_type": "code",
   "execution_count": 22,
   "metadata": {},
   "outputs": [
    {
     "data": {
      "text/plain": [
       "7574"
      ]
     },
     "execution_count": 22,
     "metadata": {},
     "output_type": "execute_result"
    }
   ],
   "source": [
    "p = re.compile('PRO_')\n",
    "acAll = [x for x in acAll if not p.findall(x)]\n",
    "len(acAll)"
   ]
  },
  {
   "cell_type": "code",
   "execution_count": 23,
   "metadata": {},
   "outputs": [],
   "source": [
    "ac = []\n",
    "info = []\n",
    "seq = []\n",
    "seqline = ''\n",
    "initFlag = True\n",
    "fastaFile = '../../data/raw/allAC.fasta' # from uniprot website mapping, download with canonical and isoform\n",
    "with open(fastaFile, 'r') as f:\n",
    "    for line in f:\n",
    "        line = line.strip()\n",
    "        if '>' in line:\n",
    "            res = re.findall(r'\\|([^\"]+)\\|', line)[0]\n",
    "            ac.append(res)\n",
    "            info.append(line)\n",
    "            if initFlag:\n",
    "                initFlag = False\n",
    "            else:\n",
    "                seq.append(seqline)\n",
    "                seqline = ''\n",
    "        else:\n",
    "            seqline += line\n",
    "    seq.append(seqline)\n",
    "fastaTable = pd.DataFrame({'ac': ac, 'info': info, 'seq': seq})"
   ]
  },
  {
   "cell_type": "markdown",
   "metadata": {},
   "source": [
    "## select valid uniprotAC to make following selection"
   ]
  },
  {
   "cell_type": "code",
   "execution_count": 24,
   "metadata": {},
   "outputs": [
    {
     "name": "stdout",
     "output_type": "stream",
     "text": [
      "(7208, 3)\n",
      "(327, 3)\n",
      "(7535, 3)\n"
     ]
    }
   ],
   "source": [
    "validAC1 = fastaTable[fastaTable['ac'].isin(acAll)]\n",
    "\n",
    "validAC2 = fastaTable[~fastaTable['ac'].isin(acAll)]\n",
    "acAll_series = pd.Series(list(acAll))\n",
    "validAC2 = validAC2[validAC2['ac'].isin(acAll_series.str.split('-', expand=True)[0])]\n",
    "validAC = pd.concat([validAC1, validAC2])\n",
    "print(validAC1.shape)\n",
    "print(validAC2.shape)\n",
    "print(validAC.shape)"
   ]
  },
  {
   "cell_type": "markdown",
   "metadata": {},
   "source": [
    "## make the 'affected protein AC' - 'uniprotAC' dict. Some have 'multiple key' -> 'single value' relationship eg: apac['P19838-1'] = 'P19838', apac['P19838'] = 'P19838'"
   ]
  },
  {
   "cell_type": "code",
   "execution_count": 25,
   "metadata": {},
   "outputs": [],
   "source": [
    "apacKey = []\n",
    "acValue = []\n",
    "for ac in acAll:\n",
    "    if ac in validAC['ac'].values:\n",
    "        apacKey.append(ac)\n",
    "        acValue.append(ac)\n",
    "    elif ac.split('-')[0] in validAC['ac'].values:\n",
    "        apacKey.append(ac)\n",
    "        acValue.append(ac.split('-')[0])\n",
    "apac2ac = dict(zip(apacKey, acValue))\n"
   ]
  },
  {
   "cell_type": "markdown",
   "metadata": {},
   "source": [
    "### transform all isoform AC in table into real uniprotAC(canonical with no isoform '-'), eg: O43889-2 ->O43889, O43889-3 -> O43889-3"
   ]
  },
  {
   "cell_type": "code",
   "execution_count": 26,
   "metadata": {},
   "outputs": [],
   "source": [
    "df = df[df['Affected protein AC'].isin(apac2ac.keys())]"
   ]
  },
  {
   "cell_type": "code",
   "execution_count": 27,
   "metadata": {},
   "outputs": [],
   "source": [
    "df = df[df['partners'].apply(lambda x: set(x) < set(list(apac2ac.keys())))]"
   ]
  },
  {
   "cell_type": "markdown",
   "metadata": {},
   "source": [
    "## make interaction with multi position mutations into one "
   ]
  },
  {
   "cell_type": "code",
   "execution_count": null,
   "metadata": {},
   "outputs": [],
   "source": [
    "# pos = df['Feature range(s)'].str.split('-', expand=True)\n",
    "# df['start'] = pos[0]\n",
    "# df['end'] = pos[1]\n",
    "\n",
    "comCol = df.columns.tolist()\n",
    "comCol.remove('Feature range(s)')\n",
    "comCol.remove('Original sequence')\n",
    "comCol.remove('Resulting sequence')\n",
    "\n",
    "df_1 = df.groupby('#Feature AC')['Feature range(s)','Original sequence', 'Resulting sequence'].agg(list)\n",
    "df_2 = df[comCol].drop_duplicates('#Feature AC', keep='first')\n",
    "df = pd.merge(df_1, df_2, on = '#Feature AC')\n",
    "df.reset_index(drop=True, inplace=True)\n",
    "df.shape"
   ]
  },
  {
   "cell_type": "code",
   "execution_count": 29,
   "metadata": {},
   "outputs": [
    {
     "data": {
      "text/html": [
       "<div>\n",
       "<style scoped>\n",
       "    .dataframe tbody tr th:only-of-type {\n",
       "        vertical-align: middle;\n",
       "    }\n",
       "\n",
       "    .dataframe tbody tr th {\n",
       "        vertical-align: top;\n",
       "    }\n",
       "\n",
       "    .dataframe thead th {\n",
       "        text-align: right;\n",
       "    }\n",
       "</style>\n",
       "<table border=\"1\" class=\"dataframe\">\n",
       "  <thead>\n",
       "    <tr style=\"text-align: right;\">\n",
       "      <th></th>\n",
       "      <th>#Feature AC</th>\n",
       "      <th>Feature range(s)</th>\n",
       "      <th>Original sequence</th>\n",
       "      <th>Resulting sequence</th>\n",
       "      <th>Feature short label</th>\n",
       "      <th>Feature type</th>\n",
       "      <th>Feature annotation</th>\n",
       "      <th>Affected protein AC</th>\n",
       "      <th>Affected protein symbol</th>\n",
       "      <th>Affected protein full name</th>\n",
       "      <th>Affected protein organism</th>\n",
       "      <th>Interaction participants</th>\n",
       "      <th>PubMedID</th>\n",
       "      <th>Figure legend</th>\n",
       "      <th>Interaction AC</th>\n",
       "      <th>partners</th>\n",
       "      <th>n_partner</th>\n",
       "    </tr>\n",
       "  </thead>\n",
       "  <tbody>\n",
       "    <tr>\n",
       "      <th>0</th>\n",
       "      <td>EBI-10039489</td>\n",
       "      <td>[81-81]</td>\n",
       "      <td>[V]</td>\n",
       "      <td>[E]</td>\n",
       "      <td>p.Val81Glu</td>\n",
       "      <td>mutation disrupting(MI:0573)</td>\n",
       "      <td></td>\n",
       "      <td>P28795</td>\n",
       "      <td>PEX3</td>\n",
       "      <td></td>\n",
       "      <td>559292 - Saccharomyces cerevisiae</td>\n",
       "      <td>uniprotkb:Q03694(protein(MI:0326), 559292 - Sa...</td>\n",
       "      <td>23900285</td>\n",
       "      <td>f1c</td>\n",
       "      <td>EBI-10039307</td>\n",
       "      <td>[Q03694, P28795]</td>\n",
       "      <td>2</td>\n",
       "    </tr>\n",
       "    <tr>\n",
       "      <th>1</th>\n",
       "      <td>EBI-10039495</td>\n",
       "      <td>[188-188]</td>\n",
       "      <td>[N]</td>\n",
       "      <td>[I]</td>\n",
       "      <td>p.Asn188Ile</td>\n",
       "      <td>mutation decreasing(MI:0119)</td>\n",
       "      <td></td>\n",
       "      <td>P28795</td>\n",
       "      <td>PEX3</td>\n",
       "      <td></td>\n",
       "      <td>559292 - Saccharomyces cerevisiae</td>\n",
       "      <td>uniprotkb:Q03694(protein(MI:0326), 559292 - Sa...</td>\n",
       "      <td>23900285</td>\n",
       "      <td>f1c</td>\n",
       "      <td>EBI-10039491</td>\n",
       "      <td>[Q03694, P28795]</td>\n",
       "      <td>2</td>\n",
       "    </tr>\n",
       "    <tr>\n",
       "      <th>2</th>\n",
       "      <td>EBI-10039551</td>\n",
       "      <td>[81-81]</td>\n",
       "      <td>[V]</td>\n",
       "      <td>[E]</td>\n",
       "      <td>p.Val81Glu</td>\n",
       "      <td>mutation disrupting(MI:0573)</td>\n",
       "      <td></td>\n",
       "      <td>P28795</td>\n",
       "      <td>PEX3</td>\n",
       "      <td></td>\n",
       "      <td>559292 - Saccharomyces cerevisiae</td>\n",
       "      <td>uniprotkb:P28795(protein(MI:0326), 559292 - Sa...</td>\n",
       "      <td>23900285</td>\n",
       "      <td>f2a f2b</td>\n",
       "      <td>EBI-10039532</td>\n",
       "      <td>[P28795, Q03694]</td>\n",
       "      <td>2</td>\n",
       "    </tr>\n",
       "    <tr>\n",
       "      <th>3</th>\n",
       "      <td>EBI-10039706</td>\n",
       "      <td>[81-81]</td>\n",
       "      <td>[V]</td>\n",
       "      <td>[E]</td>\n",
       "      <td>p.Val81Glu</td>\n",
       "      <td>mutation disrupting(MI:0573)</td>\n",
       "      <td></td>\n",
       "      <td>P28795</td>\n",
       "      <td>PEX3</td>\n",
       "      <td></td>\n",
       "      <td>559292 - Saccharomyces cerevisiae</td>\n",
       "      <td>uniprotkb:P28795(protein(MI:0326), 559292 - Sa...</td>\n",
       "      <td>23900285</td>\n",
       "      <td>f2c</td>\n",
       "      <td>EBI-10039697</td>\n",
       "      <td>[P28795, Q03694]</td>\n",
       "      <td>2</td>\n",
       "    </tr>\n",
       "    <tr>\n",
       "      <th>4</th>\n",
       "      <td>EBI-10039722</td>\n",
       "      <td>[81-81]</td>\n",
       "      <td>[V]</td>\n",
       "      <td>[E]</td>\n",
       "      <td>p.Val81Glu</td>\n",
       "      <td>mutation disrupting(MI:0573)</td>\n",
       "      <td></td>\n",
       "      <td>P28795</td>\n",
       "      <td>PEX3</td>\n",
       "      <td></td>\n",
       "      <td>559292 - Saccharomyces cerevisiae</td>\n",
       "      <td>uniprotkb:P28795(protein(MI:0326), 559292 - Sa...</td>\n",
       "      <td>23900285</td>\n",
       "      <td>f2d</td>\n",
       "      <td>EBI-10039716</td>\n",
       "      <td>[P28795, Q03694]</td>\n",
       "      <td>2</td>\n",
       "    </tr>\n",
       "  </tbody>\n",
       "</table>\n",
       "</div>"
      ],
      "text/plain": [
       "    #Feature AC Feature range(s) Original sequence Resulting sequence  \\\n",
       "0  EBI-10039489          [81-81]               [V]                [E]   \n",
       "1  EBI-10039495        [188-188]               [N]                [I]   \n",
       "2  EBI-10039551          [81-81]               [V]                [E]   \n",
       "3  EBI-10039706          [81-81]               [V]                [E]   \n",
       "4  EBI-10039722          [81-81]               [V]                [E]   \n",
       "\n",
       "  Feature short label                  Feature type Feature annotation  \\\n",
       "0          p.Val81Glu  mutation disrupting(MI:0573)                      \n",
       "1         p.Asn188Ile  mutation decreasing(MI:0119)                      \n",
       "2          p.Val81Glu  mutation disrupting(MI:0573)                      \n",
       "3          p.Val81Glu  mutation disrupting(MI:0573)                      \n",
       "4          p.Val81Glu  mutation disrupting(MI:0573)                      \n",
       "\n",
       "  Affected protein AC Affected protein symbol Affected protein full name  \\\n",
       "0              P28795                    PEX3                              \n",
       "1              P28795                    PEX3                              \n",
       "2              P28795                    PEX3                              \n",
       "3              P28795                    PEX3                              \n",
       "4              P28795                    PEX3                              \n",
       "\n",
       "           Affected protein organism  \\\n",
       "0  559292 - Saccharomyces cerevisiae   \n",
       "1  559292 - Saccharomyces cerevisiae   \n",
       "2  559292 - Saccharomyces cerevisiae   \n",
       "3  559292 - Saccharomyces cerevisiae   \n",
       "4  559292 - Saccharomyces cerevisiae   \n",
       "\n",
       "                            Interaction participants  PubMedID Figure legend  \\\n",
       "0  uniprotkb:Q03694(protein(MI:0326), 559292 - Sa...  23900285           f1c   \n",
       "1  uniprotkb:Q03694(protein(MI:0326), 559292 - Sa...  23900285           f1c   \n",
       "2  uniprotkb:P28795(protein(MI:0326), 559292 - Sa...  23900285       f2a f2b   \n",
       "3  uniprotkb:P28795(protein(MI:0326), 559292 - Sa...  23900285           f2c   \n",
       "4  uniprotkb:P28795(protein(MI:0326), 559292 - Sa...  23900285           f2d   \n",
       "\n",
       "  Interaction AC          partners  n_partner  \n",
       "0   EBI-10039307  [Q03694, P28795]          2  \n",
       "1   EBI-10039491  [Q03694, P28795]          2  \n",
       "2   EBI-10039532  [P28795, Q03694]          2  \n",
       "3   EBI-10039697  [P28795, Q03694]          2  \n",
       "4   EBI-10039716  [P28795, Q03694]          2  "
      ]
     },
     "execution_count": 29,
     "metadata": {},
     "output_type": "execute_result"
    }
   ],
   "source": [
    "df.head()"
   ]
  },
  {
   "cell_type": "markdown",
   "metadata": {},
   "source": [
    "## make mutprotein seq and participants seq"
   ]
  },
  {
   "cell_type": "code",
   "execution_count": 30,
   "metadata": {},
   "outputs": [],
   "source": [
    "validAC_index = validAC.copy()\n",
    "validAC_index = validAC_index.set_index('ac')"
   ]
  },
  {
   "cell_type": "code",
   "execution_count": 31,
   "metadata": {},
   "outputs": [],
   "source": [
    "mutAC = [apac2ac[x] for x in df['Affected protein AC']]\n",
    "mut0 = []\n",
    "for i in mutAC:\n",
    "    mut0.append(validAC_index.loc[i, 'seq'])"
   ]
  },
  {
   "cell_type": "code",
   "execution_count": 32,
   "metadata": {},
   "outputs": [
    {
     "name": "stdout",
     "output_type": "stream",
     "text": [
      "26861\n",
      "(26861, 17)\n"
     ]
    }
   ],
   "source": [
    "par = []\n",
    "parAC = []\n",
    "\n",
    "for i in df.index:\n",
    "    sameFlag = False\n",
    "    if len(df.loc[i, 'partners']) > 1:\n",
    "        for j in df.loc[i, 'partners']:\n",
    "            if j != df.loc[i, 'Affected protein AC']:\n",
    "                par.append(validAC_index.loc[apac2ac[j], 'seq'])\n",
    "                parAC.append(apac2ac[j])\n",
    "            elif sameFlag:\n",
    "                par.append(validAC_index.loc[apac2ac[j], 'seq'])\n",
    "                parAC.append(apac2ac[j])\n",
    "            else:\n",
    "                sameFlag = True\n",
    "    elif len(df.loc[i, 'partners']) == 1:\n",
    "        par.append(validAC_index.loc[apac2ac[df.loc[i, 'partners'][0]], 'seq'])\n",
    "        parAC.append(apac2ac[df.loc[i, 'partners'][0]])\n",
    "print(len(par))\n",
    "print(df.shape)"
   ]
  },
  {
   "cell_type": "code",
   "execution_count": 33,
   "metadata": {},
   "outputs": [],
   "source": [
    "df['mutAC'] = mutAC\n",
    "df['mut0'] = mut0\n",
    "df['parAC'] = parAC\n",
    "df['par0'] = par"
   ]
  },
  {
   "cell_type": "code",
   "execution_count": 34,
   "metadata": {},
   "outputs": [
    {
     "name": "stdout",
     "output_type": "stream",
     "text": [
      "26861\n"
     ]
    }
   ],
   "source": [
    "mut1 = []\n",
    "for i in df.index:\n",
    "    tmp = df.loc[i, 'mut0']\n",
    "    for j in range(len(df.loc[i, 'Feature range(s)'])):\n",
    "        pos0 = int(df.loc[i, 'Feature range(s)'][j].split('-')[0])\n",
    "        pos1 = int(df.loc[i, 'Feature range(s)'][j].split('-')[1])\n",
    "        ori = df.loc[i, 'Original sequence'][j]\n",
    "        mut = df.loc[i, 'Resulting sequence'][j]\n",
    "#         try:\n",
    "#             if len(ori) != len(mut):\n",
    "#                 print('match length error!' + df.loc[i, '#Feature AC'])\n",
    "#                 break\n",
    "#         except:\n",
    "#             print(df.loc[i, '#Feature AC'] )\n",
    "        if tmp[(pos0 - 1): pos1] != ori:\n",
    "            print(df.loc[i, 'Affected protein AC'])\n",
    "#             mut1.append('error_match')\n",
    "            continue\n",
    "        else:\n",
    "            tmp = tmp[:(pos0 - 1)] + mut + tmp[pos1:]\n",
    "    tmp = tmp.replace('.', '')\n",
    "    mut1.append(tmp)\n",
    "print(len(mut1))"
   ]
  },
  {
   "cell_type": "code",
   "execution_count": 35,
   "metadata": {},
   "outputs": [],
   "source": [
    "df['mut1'] = mut1"
   ]
  },
  {
   "cell_type": "code",
   "execution_count": 36,
   "metadata": {
    "scrolled": true
   },
   "outputs": [],
   "source": [
    "df['label'] = 2\n",
    "df.loc[df['Feature type'].str.contains('disrupting'), 'label'] = 0\n",
    "df.loc[df['Feature type'].str.contains('decreasing'), 'label'] = 1\n",
    "df.loc[df['Feature type'].str.contains('increasing'), 'label'] = 3\n",
    "df.loc[df['Feature type'].str.contains('causing'), 'label'] = 4"
   ]
  },
  {
   "cell_type": "code",
   "execution_count": 38,
   "metadata": {},
   "outputs": [],
   "source": [
    "df['mutAC1'] = df['mutAC'] + '_' + df['Feature short label']\n",
    "df['mutAC1'] = df['mutAC1'].str.replace('_p.', '_')\n",
    "df['mutAC1'] = df['mutAC1'].str.replace('[', '-')\n",
    "df['mutAC1'] = df['mutAC1'].str.replace(']', '-')\n",
    "df['mutAC1'] = df['mutAC1'].str.replace(';', '_')"
   ]
  },
  {
   "cell_type": "code",
   "execution_count": 39,
   "metadata": {},
   "outputs": [
    {
     "data": {
      "text/plain": [
       "mutation with no effect(MI:2226)         8121\n",
       "mutation disrupting strength(MI:1128)    5084\n",
       "mutation disrupting(MI:0573)             4396\n",
       "mutation decreasing(MI:0119)             4194\n",
       "mutation decreasing strength(MI:1133)    2345\n",
       "mutation increasing(MI:0382)             1113\n",
       "mutation increasing strength(MI:1132)     615\n",
       "mutation disrupting rate(MI:1129)         352\n",
       "mutation decreasing rate(MI:1130)         277\n",
       "mutation causing(MI:2227)                 222\n",
       "mutation increasing rate(MI:1131)         142\n",
       "Name: Feature type, dtype: int64"
      ]
     },
     "execution_count": 39,
     "metadata": {},
     "output_type": "execute_result"
    }
   ],
   "source": [
    "df['Feature type'].value_counts()"
   ]
  },
  {
   "cell_type": "code",
   "execution_count": 40,
   "metadata": {},
   "outputs": [
    {
     "data": {
      "text/plain": [
       "0    9832\n",
       "2    8121\n",
       "1    6816\n",
       "3    1870\n",
       "4     222\n",
       "Name: label, dtype: int64"
      ]
     },
     "execution_count": 40,
     "metadata": {},
     "output_type": "execute_result"
    }
   ],
   "source": [
    "df['label'].value_counts()"
   ]
  },
  {
   "cell_type": "code",
   "execution_count": 41,
   "metadata": {
    "scrolled": true
   },
   "outputs": [
    {
     "data": {
      "text/html": [
       "<div>\n",
       "<style scoped>\n",
       "    .dataframe tbody tr th:only-of-type {\n",
       "        vertical-align: middle;\n",
       "    }\n",
       "\n",
       "    .dataframe tbody tr th {\n",
       "        vertical-align: top;\n",
       "    }\n",
       "\n",
       "    .dataframe thead th {\n",
       "        text-align: right;\n",
       "    }\n",
       "</style>\n",
       "<table border=\"1\" class=\"dataframe\">\n",
       "  <thead>\n",
       "    <tr style=\"text-align: right;\">\n",
       "      <th></th>\n",
       "      <th>#Feature AC</th>\n",
       "      <th>Feature range(s)</th>\n",
       "      <th>Original sequence</th>\n",
       "      <th>Resulting sequence</th>\n",
       "      <th>Feature short label</th>\n",
       "      <th>Feature type</th>\n",
       "      <th>Feature annotation</th>\n",
       "      <th>Affected protein AC</th>\n",
       "      <th>Affected protein symbol</th>\n",
       "      <th>Affected protein full name</th>\n",
       "      <th>...</th>\n",
       "      <th>Interaction AC</th>\n",
       "      <th>partners</th>\n",
       "      <th>n_partner</th>\n",
       "      <th>mutAC</th>\n",
       "      <th>mut0</th>\n",
       "      <th>parAC</th>\n",
       "      <th>par0</th>\n",
       "      <th>mut1</th>\n",
       "      <th>label</th>\n",
       "      <th>mutAC1</th>\n",
       "    </tr>\n",
       "  </thead>\n",
       "  <tbody>\n",
       "    <tr>\n",
       "      <th>0</th>\n",
       "      <td>EBI-10039489</td>\n",
       "      <td>[81-81]</td>\n",
       "      <td>[V]</td>\n",
       "      <td>[E]</td>\n",
       "      <td>p.Val81Glu</td>\n",
       "      <td>mutation disrupting(MI:0573)</td>\n",
       "      <td></td>\n",
       "      <td>P28795</td>\n",
       "      <td>PEX3</td>\n",
       "      <td></td>\n",
       "      <td>...</td>\n",
       "      <td>EBI-10039307</td>\n",
       "      <td>[Q03694, P28795]</td>\n",
       "      <td>2</td>\n",
       "      <td>P28795</td>\n",
       "      <td>MAPNQRSRSLLQRHRGKVLISLTGIAALFTTGSVVVFFVKRWLYKQ...</td>\n",
       "      <td>Q03694</td>\n",
       "      <td>MVLSRGETKKNSVRLTAKQEKKPQSTFQTLKQSLKLSNNKKLKQDS...</td>\n",
       "      <td>MAPNQRSRSLLQRHRGKVLISLTGIAALFTTGSVVVFFVKRWLYKQ...</td>\n",
       "      <td>0</td>\n",
       "      <td>P28795_Val81Glu</td>\n",
       "    </tr>\n",
       "    <tr>\n",
       "      <th>1</th>\n",
       "      <td>EBI-10039495</td>\n",
       "      <td>[188-188]</td>\n",
       "      <td>[N]</td>\n",
       "      <td>[I]</td>\n",
       "      <td>p.Asn188Ile</td>\n",
       "      <td>mutation decreasing(MI:0119)</td>\n",
       "      <td></td>\n",
       "      <td>P28795</td>\n",
       "      <td>PEX3</td>\n",
       "      <td></td>\n",
       "      <td>...</td>\n",
       "      <td>EBI-10039491</td>\n",
       "      <td>[Q03694, P28795]</td>\n",
       "      <td>2</td>\n",
       "      <td>P28795</td>\n",
       "      <td>MAPNQRSRSLLQRHRGKVLISLTGIAALFTTGSVVVFFVKRWLYKQ...</td>\n",
       "      <td>Q03694</td>\n",
       "      <td>MVLSRGETKKNSVRLTAKQEKKPQSTFQTLKQSLKLSNNKKLKQDS...</td>\n",
       "      <td>MAPNQRSRSLLQRHRGKVLISLTGIAALFTTGSVVVFFVKRWLYKQ...</td>\n",
       "      <td>1</td>\n",
       "      <td>P28795_Asn188Ile</td>\n",
       "    </tr>\n",
       "    <tr>\n",
       "      <th>2</th>\n",
       "      <td>EBI-10039551</td>\n",
       "      <td>[81-81]</td>\n",
       "      <td>[V]</td>\n",
       "      <td>[E]</td>\n",
       "      <td>p.Val81Glu</td>\n",
       "      <td>mutation disrupting(MI:0573)</td>\n",
       "      <td></td>\n",
       "      <td>P28795</td>\n",
       "      <td>PEX3</td>\n",
       "      <td></td>\n",
       "      <td>...</td>\n",
       "      <td>EBI-10039532</td>\n",
       "      <td>[P28795, Q03694]</td>\n",
       "      <td>2</td>\n",
       "      <td>P28795</td>\n",
       "      <td>MAPNQRSRSLLQRHRGKVLISLTGIAALFTTGSVVVFFVKRWLYKQ...</td>\n",
       "      <td>Q03694</td>\n",
       "      <td>MVLSRGETKKNSVRLTAKQEKKPQSTFQTLKQSLKLSNNKKLKQDS...</td>\n",
       "      <td>MAPNQRSRSLLQRHRGKVLISLTGIAALFTTGSVVVFFVKRWLYKQ...</td>\n",
       "      <td>0</td>\n",
       "      <td>P28795_Val81Glu</td>\n",
       "    </tr>\n",
       "    <tr>\n",
       "      <th>3</th>\n",
       "      <td>EBI-10039706</td>\n",
       "      <td>[81-81]</td>\n",
       "      <td>[V]</td>\n",
       "      <td>[E]</td>\n",
       "      <td>p.Val81Glu</td>\n",
       "      <td>mutation disrupting(MI:0573)</td>\n",
       "      <td></td>\n",
       "      <td>P28795</td>\n",
       "      <td>PEX3</td>\n",
       "      <td></td>\n",
       "      <td>...</td>\n",
       "      <td>EBI-10039697</td>\n",
       "      <td>[P28795, Q03694]</td>\n",
       "      <td>2</td>\n",
       "      <td>P28795</td>\n",
       "      <td>MAPNQRSRSLLQRHRGKVLISLTGIAALFTTGSVVVFFVKRWLYKQ...</td>\n",
       "      <td>Q03694</td>\n",
       "      <td>MVLSRGETKKNSVRLTAKQEKKPQSTFQTLKQSLKLSNNKKLKQDS...</td>\n",
       "      <td>MAPNQRSRSLLQRHRGKVLISLTGIAALFTTGSVVVFFVKRWLYKQ...</td>\n",
       "      <td>0</td>\n",
       "      <td>P28795_Val81Glu</td>\n",
       "    </tr>\n",
       "    <tr>\n",
       "      <th>4</th>\n",
       "      <td>EBI-10039722</td>\n",
       "      <td>[81-81]</td>\n",
       "      <td>[V]</td>\n",
       "      <td>[E]</td>\n",
       "      <td>p.Val81Glu</td>\n",
       "      <td>mutation disrupting(MI:0573)</td>\n",
       "      <td></td>\n",
       "      <td>P28795</td>\n",
       "      <td>PEX3</td>\n",
       "      <td></td>\n",
       "      <td>...</td>\n",
       "      <td>EBI-10039716</td>\n",
       "      <td>[P28795, Q03694]</td>\n",
       "      <td>2</td>\n",
       "      <td>P28795</td>\n",
       "      <td>MAPNQRSRSLLQRHRGKVLISLTGIAALFTTGSVVVFFVKRWLYKQ...</td>\n",
       "      <td>Q03694</td>\n",
       "      <td>MVLSRGETKKNSVRLTAKQEKKPQSTFQTLKQSLKLSNNKKLKQDS...</td>\n",
       "      <td>MAPNQRSRSLLQRHRGKVLISLTGIAALFTTGSVVVFFVKRWLYKQ...</td>\n",
       "      <td>0</td>\n",
       "      <td>P28795_Val81Glu</td>\n",
       "    </tr>\n",
       "  </tbody>\n",
       "</table>\n",
       "<p>5 rows × 24 columns</p>\n",
       "</div>"
      ],
      "text/plain": [
       "    #Feature AC Feature range(s) Original sequence Resulting sequence  \\\n",
       "0  EBI-10039489          [81-81]               [V]                [E]   \n",
       "1  EBI-10039495        [188-188]               [N]                [I]   \n",
       "2  EBI-10039551          [81-81]               [V]                [E]   \n",
       "3  EBI-10039706          [81-81]               [V]                [E]   \n",
       "4  EBI-10039722          [81-81]               [V]                [E]   \n",
       "\n",
       "  Feature short label                  Feature type Feature annotation  \\\n",
       "0          p.Val81Glu  mutation disrupting(MI:0573)                      \n",
       "1         p.Asn188Ile  mutation decreasing(MI:0119)                      \n",
       "2          p.Val81Glu  mutation disrupting(MI:0573)                      \n",
       "3          p.Val81Glu  mutation disrupting(MI:0573)                      \n",
       "4          p.Val81Glu  mutation disrupting(MI:0573)                      \n",
       "\n",
       "  Affected protein AC Affected protein symbol Affected protein full name  ...  \\\n",
       "0              P28795                    PEX3                             ...   \n",
       "1              P28795                    PEX3                             ...   \n",
       "2              P28795                    PEX3                             ...   \n",
       "3              P28795                    PEX3                             ...   \n",
       "4              P28795                    PEX3                             ...   \n",
       "\n",
       "  Interaction AC          partners n_partner   mutAC  \\\n",
       "0   EBI-10039307  [Q03694, P28795]         2  P28795   \n",
       "1   EBI-10039491  [Q03694, P28795]         2  P28795   \n",
       "2   EBI-10039532  [P28795, Q03694]         2  P28795   \n",
       "3   EBI-10039697  [P28795, Q03694]         2  P28795   \n",
       "4   EBI-10039716  [P28795, Q03694]         2  P28795   \n",
       "\n",
       "                                                mut0   parAC  \\\n",
       "0  MAPNQRSRSLLQRHRGKVLISLTGIAALFTTGSVVVFFVKRWLYKQ...  Q03694   \n",
       "1  MAPNQRSRSLLQRHRGKVLISLTGIAALFTTGSVVVFFVKRWLYKQ...  Q03694   \n",
       "2  MAPNQRSRSLLQRHRGKVLISLTGIAALFTTGSVVVFFVKRWLYKQ...  Q03694   \n",
       "3  MAPNQRSRSLLQRHRGKVLISLTGIAALFTTGSVVVFFVKRWLYKQ...  Q03694   \n",
       "4  MAPNQRSRSLLQRHRGKVLISLTGIAALFTTGSVVVFFVKRWLYKQ...  Q03694   \n",
       "\n",
       "                                                par0  \\\n",
       "0  MVLSRGETKKNSVRLTAKQEKKPQSTFQTLKQSLKLSNNKKLKQDS...   \n",
       "1  MVLSRGETKKNSVRLTAKQEKKPQSTFQTLKQSLKLSNNKKLKQDS...   \n",
       "2  MVLSRGETKKNSVRLTAKQEKKPQSTFQTLKQSLKLSNNKKLKQDS...   \n",
       "3  MVLSRGETKKNSVRLTAKQEKKPQSTFQTLKQSLKLSNNKKLKQDS...   \n",
       "4  MVLSRGETKKNSVRLTAKQEKKPQSTFQTLKQSLKLSNNKKLKQDS...   \n",
       "\n",
       "                                                mut1 label            mutAC1  \n",
       "0  MAPNQRSRSLLQRHRGKVLISLTGIAALFTTGSVVVFFVKRWLYKQ...     0   P28795_Val81Glu  \n",
       "1  MAPNQRSRSLLQRHRGKVLISLTGIAALFTTGSVVVFFVKRWLYKQ...     1  P28795_Asn188Ile  \n",
       "2  MAPNQRSRSLLQRHRGKVLISLTGIAALFTTGSVVVFFVKRWLYKQ...     0   P28795_Val81Glu  \n",
       "3  MAPNQRSRSLLQRHRGKVLISLTGIAALFTTGSVVVFFVKRWLYKQ...     0   P28795_Val81Glu  \n",
       "4  MAPNQRSRSLLQRHRGKVLISLTGIAALFTTGSVVVFFVKRWLYKQ...     0   P28795_Val81Glu  \n",
       "\n",
       "[5 rows x 24 columns]"
      ]
     },
     "execution_count": 41,
     "metadata": {},
     "output_type": "execute_result"
    }
   ],
   "source": [
    "df.head()"
   ]
  },
  {
   "cell_type": "markdown",
   "metadata": {},
   "source": [
    "## delete items with same participants (for unknown mutated or wildtype in the interaction)"
   ]
  },
  {
   "cell_type": "code",
   "execution_count": 42,
   "metadata": {},
   "outputs": [
    {
     "name": "stdout",
     "output_type": "stream",
     "text": [
      "after drop same participants items: (23860, 24)\n"
     ]
    }
   ],
   "source": [
    "df = df[~(df['mutAC'] == df['parAC'])]\n",
    "print('after drop same participants items: {}'.format(df.shape))"
   ]
  },
  {
   "cell_type": "markdown",
   "metadata": {},
   "source": [
    "## drop unregular aa"
   ]
  },
  {
   "cell_type": "code",
   "execution_count": 43,
   "metadata": {},
   "outputs": [
    {
     "name": "stdout",
     "output_type": "stream",
     "text": [
      "after drop unregular aa: (23819, 24)\n"
     ]
    }
   ],
   "source": [
    "df = df[~(df['mut0'].str.contains('B|J|O|U|X|Z'))]\n",
    "df = df[~(df['mut1'].str.contains('B|J|O|U|X|Z'))]\n",
    "df = df[~(df['par0'].str.contains('B|J|O|U|X|Z'))]\n",
    "print('after drop unregular aa: {}'.format(df.shape))"
   ]
  },
  {
   "cell_type": "markdown",
   "metadata": {},
   "source": [
    "## step for add PSSM(full size) into table"
   ]
  },
  {
   "cell_type": "code",
   "execution_count": 39,
   "metadata": {},
   "outputs": [],
   "source": [
    "def load_file(file_path):\n",
    "    try:\n",
    "        with open(file_path) as f_in:\n",
    "            lines = f_in.readlines()\n",
    "        return lines\n",
    "    except IOError as err:\n",
    "        print('Can not open file: ' + file_path)\n",
    "        return 'nan'\n",
    "\n",
    "def parse_pssm(filelines, winsize=51, pssm_root=None, mutated_pos=None, most1024=False):\n",
    "#     pssm_root = '/lustre/home/acct-bmelgn/bmelgn-2/QianWei/app/psipred_file/psipred/BLAST+/v20200727/pssm'\n",
    "    filelines = load_file(os.path.join(pssm_root, filelines + '.pssm'))\n",
    "    if filelines == 'nan':\n",
    "        return 'nan'\n",
    "    pssmvalue = np.array([])\n",
    "    for line in filelines:\n",
    "        if len(line.split()) == 44:\n",
    "            pssmvalue = np.r_[pssmvalue, np.array(line.split()[2:22]).astype(float)]\n",
    "    pssmvalue = np.reshape(pssmvalue, (-1, 20))\n",
    "    if pssmvalue.shape[0] < 1024:\n",
    "        pssmvalue = np.r_[pssmvalue, np.zeros([1024 - pssmvalue.shape[0], 20])]\n",
    "    if most1024:\n",
    "        if pssmvalue.shape[0] > 1024:\n",
    "            pssmvalue = pssmvalue[:1024, :]\n",
    "    if mutated_pos != None:\n",
    "        pssmvalue = np.r_[np.zeros([25, 20]), pssmvalue, np.zeros([25, 20])]\n",
    "        pssmvalue = pssmvalue[mutated_pos - 1: mutated_pos + 50, :]\n",
    "    \n",
    "    return pssmvalue"
   ]
  },
  {
   "cell_type": "markdown",
   "metadata": {},
   "source": [
    "## pssm_root saved PPSM files after psiblast batch works"
   ]
  },
  {
   "cell_type": "code",
   "execution_count": 40,
   "metadata": {},
   "outputs": [],
   "source": [
    "# please change it into your customized directory\n",
    "mut_pssm_root = '/lustre/home/acct-bmelgn/bmelgn-2/QianWei/app/psipred_file/psipred/BLAST+/v20200727/pssm'\n",
    "ori_pssm_root = '/lustre/home/acct-bmelgn/bmelgn-2/QianWei/app/psipred_file/psipred/BLAST+/v20200731/pssm'"
   ]
  },
  {
   "cell_type": "code",
   "execution_count": null,
   "metadata": {},
   "outputs": [],
   "source": [
    "pssm_par0 = [parse_pssm(x, pssm_root=ori_pssm_root) for x in df['parAC']]\n",
    "# pssm 51 window only available to single mutation items\n",
    "df['pssm_par0'] = pssm_par0\n",
    "df = df[~(df['pssm_par0'] == 'nan')]\n",
    "print('after pssm_par0: {}'.format(df.shape))"
   ]
  },
  {
   "cell_type": "markdown",
   "metadata": {},
   "source": [
    "## select only single-point items to support slide window strategy (no need for length strict of mutated protein)"
   ]
  },
  {
   "cell_type": "code",
   "execution_count": 44,
   "metadata": {},
   "outputs": [
    {
     "name": "stdout",
     "output_type": "stream",
     "text": [
      "df_copy shape: (23819, 24)\n",
      "after drop multi-point mutation items: (21390, 24)\n"
     ]
    }
   ],
   "source": [
    "df_s = df.copy()\n",
    "print('df_copy shape: {}'.format(df_s.shape))\n",
    "\n",
    "df_s = df_s[~(df_s['Feature range(s)'].str.len() > 1)]\n",
    "print('after drop multi-point mutation items: {}'.format(df_s.shape))"
   ]
  },
  {
   "cell_type": "code",
   "execution_count": 45,
   "metadata": {},
   "outputs": [],
   "source": [
    "mut0_win = '0' * 51 + df_s['mut0'] + '0' * 51\n",
    "mut1_win = '0' * 51 + df_s['mut1'] + '0' * 51\n",
    "mut0_51 = []\n",
    "mut1_51 = []\n",
    "df_s['mut0_pad'] = mut0_win\n",
    "df_s['mut1_pad'] = mut1_win\n",
    "\n",
    "for i in df_s.index:\n",
    "    tmp1 = df_s.loc[i, 'mut0_pad']\n",
    "    tmp2 = df_s.loc[i, 'mut1_pad']\n",
    "    pos = int(df_s.loc[i, 'Feature range(s)'][0].split('-')[0])\n",
    "    mut0_51.append(tmp1[(pos + 25):(pos + 76)])\n",
    "    mut1_51.append(tmp2[(pos + 25):(pos + 76)])"
   ]
  },
  {
   "cell_type": "code",
   "execution_count": 46,
   "metadata": {},
   "outputs": [],
   "source": [
    "df_s['mut0_51'] = mut0_51\n",
    "df_s['mut1_51'] = mut1_51"
   ]
  },
  {
   "cell_type": "code",
   "execution_count": 47,
   "metadata": {},
   "outputs": [],
   "source": [
    "del df_s['mut0_pad']\n",
    "del df_s['mut1_pad']"
   ]
  },
  {
   "cell_type": "code",
   "execution_count": 82,
   "metadata": {},
   "outputs": [
    {
     "name": "stdout",
     "output_type": "stream",
     "text": [
      "after pssm_win_mut1: (21320, 30)\n",
      "after pssm_win_mut0: (21320, 31)\n"
     ]
    }
   ],
   "source": [
    "pssm_win = [parse_pssm(df_s.loc[i, 'mutAC1'], pssm_root=mut_pssm_root, mutated_pos=int(df_s.loc[i, 'Feature range(s)'][0].split('-')[0])) for i in df_s.index]\n",
    "# pssm 51 window only available to single mutation items\n",
    "df_s['pssm_win_mut1'] = pssm_win\n",
    "df_s = df_s[~(df_s['pssm_win_mut1'] == 'nan')]\n",
    "print('after pssm_win_mut1: {}'.format(df_s.shape))\n",
    "\n",
    "pssm_win = [parse_pssm(df_s.loc[i, 'mutAC'], pssm_root=ori_pssm_root, mutated_pos=int(df_s.loc[i, 'Feature range(s)'][0].split('-')[0])) for i in df_s.index]\n",
    "# pssm 51 window only available to single mutation items\n",
    "df_s['pssm_win_mut0'] = pssm_win\n",
    "df_s = df_s[~(df_s['pssm_win_mut0'] == 'nan')]\n",
    "print('after pssm_win_mut0: {}'.format(df_s.shape))"
   ]
  },
  {
   "cell_type": "code",
   "execution_count": 48,
   "metadata": {},
   "outputs": [
    {
     "name": "stdout",
     "output_type": "stream",
     "text": [
      "after drop duplicates: (17713, 26)\n",
      "after drop conflicts: (16573, 26)\n"
     ]
    }
   ],
   "source": [
    "# drop duplicates and coflicts\n",
    "df_s = df_s.drop_duplicates(['mut0_51', 'par0', 'mut1_51', 'label'], keep='first')\n",
    "print('after drop duplicates: {}'.format(df_s.shape))\n",
    "\n",
    "df_s = df_s.drop_duplicates(['mut0_51', 'par0', 'mut1_51'], keep=False)\n",
    "print('after drop conflicts: {}'.format(df_s.shape))"
   ]
  },
  {
   "cell_type": "code",
   "execution_count": null,
   "metadata": {},
   "outputs": [],
   "source": [
    "df_s.to_pickle('../data/processed_mutations.dataset')"
   ]
  },
  {
   "cell_type": "code",
   "execution_count": 39,
   "metadata": {},
   "outputs": [
    {
     "data": {
      "text/html": [
       "<div>\n",
       "<style scoped>\n",
       "    .dataframe tbody tr th:only-of-type {\n",
       "        vertical-align: middle;\n",
       "    }\n",
       "\n",
       "    .dataframe tbody tr th {\n",
       "        vertical-align: top;\n",
       "    }\n",
       "\n",
       "    .dataframe thead th {\n",
       "        text-align: right;\n",
       "    }\n",
       "</style>\n",
       "<table border=\"1\" class=\"dataframe\">\n",
       "  <thead>\n",
       "    <tr style=\"text-align: right;\">\n",
       "      <th></th>\n",
       "      <th>#Feature AC</th>\n",
       "      <th>Feature range(s)</th>\n",
       "      <th>Original sequence</th>\n",
       "      <th>Resulting sequence</th>\n",
       "      <th>Feature short label</th>\n",
       "      <th>Feature type</th>\n",
       "      <th>Feature annotation</th>\n",
       "      <th>Affected protein AC</th>\n",
       "      <th>Affected protein symbol</th>\n",
       "      <th>Affected protein full name</th>\n",
       "      <th>...</th>\n",
       "      <th>n_partner</th>\n",
       "      <th>mutAC</th>\n",
       "      <th>mut0</th>\n",
       "      <th>parAC</th>\n",
       "      <th>par0</th>\n",
       "      <th>mut1</th>\n",
       "      <th>label</th>\n",
       "      <th>mut0_51</th>\n",
       "      <th>mut1_51</th>\n",
       "      <th>mutAC1</th>\n",
       "    </tr>\n",
       "  </thead>\n",
       "  <tbody>\n",
       "    <tr>\n",
       "      <th>0</th>\n",
       "      <td>EBI-10039489</td>\n",
       "      <td>[81-81]</td>\n",
       "      <td>[V]</td>\n",
       "      <td>[E]</td>\n",
       "      <td>p.Val81Glu</td>\n",
       "      <td>mutation disrupting(MI:0573)</td>\n",
       "      <td></td>\n",
       "      <td>P28795</td>\n",
       "      <td>PEX3</td>\n",
       "      <td></td>\n",
       "      <td>...</td>\n",
       "      <td>2</td>\n",
       "      <td>P28795</td>\n",
       "      <td>MAPNQRSRSLLQRHRGKVLISLTGIAALFTTGSVVVFFVKRWLYKQ...</td>\n",
       "      <td>Q03694</td>\n",
       "      <td>MVLSRGETKKNSVRLTAKQEKKPQSTFQTLKQSLKLSNNKKLKQDS...</td>\n",
       "      <td>MAPNQRSRSLLQRHRGKVLISLTGIAALFTTGSVVVFFVKRWLYKQ...</td>\n",
       "      <td>1</td>\n",
       "      <td>IKEQIKRRFEQTQEDSLYTIYELLPVWRMVLNENDLNLDSIVTQLK...</td>\n",
       "      <td>IKEQIKRRFEQTQEDSLYTIYELLPEWRMVLNENDLNLDSIVTQLK...</td>\n",
       "      <td>P28795_p.Val81Glu</td>\n",
       "    </tr>\n",
       "    <tr>\n",
       "      <th>1</th>\n",
       "      <td>EBI-10039495</td>\n",
       "      <td>[188-188]</td>\n",
       "      <td>[N]</td>\n",
       "      <td>[I]</td>\n",
       "      <td>p.Asn188Ile</td>\n",
       "      <td>mutation decreasing(MI:0119)</td>\n",
       "      <td></td>\n",
       "      <td>P28795</td>\n",
       "      <td>PEX3</td>\n",
       "      <td></td>\n",
       "      <td>...</td>\n",
       "      <td>2</td>\n",
       "      <td>P28795</td>\n",
       "      <td>MAPNQRSRSLLQRHRGKVLISLTGIAALFTTGSVVVFFVKRWLYKQ...</td>\n",
       "      <td>Q03694</td>\n",
       "      <td>MVLSRGETKKNSVRLTAKQEKKPQSTFQTLKQSLKLSNNKKLKQDS...</td>\n",
       "      <td>MAPNQRSRSLLQRHRGKVLISLTGIAALFTTGSVVVFFVKRWLYKQ...</td>\n",
       "      <td>2</td>\n",
       "      <td>NEYLDSAIKLTMQQENCNKLQNRFYNWVTSWWSDPEDKADDAMVMA...</td>\n",
       "      <td>NEYLDSAIKLTMQQENCNKLQNRFYIWVTSWWSDPEDKADDAMVMA...</td>\n",
       "      <td>P28795_p.Asn188Ile</td>\n",
       "    </tr>\n",
       "    <tr>\n",
       "      <th>2</th>\n",
       "      <td>EBI-10041181</td>\n",
       "      <td>[368-368]</td>\n",
       "      <td>[W]</td>\n",
       "      <td>[A]</td>\n",
       "      <td>p.Trp368Ala</td>\n",
       "      <td>mutation decreasing(MI:0119)</td>\n",
       "      <td></td>\n",
       "      <td>Q9UKV5</td>\n",
       "      <td>AMFR</td>\n",
       "      <td></td>\n",
       "      <td>...</td>\n",
       "      <td>2</td>\n",
       "      <td>Q9UKV5</td>\n",
       "      <td>MPLLFLERFPWPSLRTYTGLSGLALLGTIISAYRALSQPEAGPGEP...</td>\n",
       "      <td>P60604</td>\n",
       "      <td>MAGTALKRLMAEYKQLTLNPPEGIVAGPMNEENFFEWEALIMGPED...</td>\n",
       "      <td>MPLLFLERFPWPSLRTYTGLSGLALLGTIISAYRALSQPEAGPGEP...</td>\n",
       "      <td>2</td>\n",
       "      <td>ICWDSMQAARKLPCGHLFHNSCLRSWLEQDTSCPTCRMSLNIADNN...</td>\n",
       "      <td>ICWDSMQAARKLPCGHLFHNSCLRSALEQDTSCPTCRMSLNIADNN...</td>\n",
       "      <td>Q9UKV5_p.Trp368Ala</td>\n",
       "    </tr>\n",
       "    <tr>\n",
       "      <th>3</th>\n",
       "      <td>EBI-10041190</td>\n",
       "      <td>[377-377]</td>\n",
       "      <td>[T]</td>\n",
       "      <td>[D]</td>\n",
       "      <td>p.Thr377Asp</td>\n",
       "      <td>mutation decreasing(MI:0119)</td>\n",
       "      <td></td>\n",
       "      <td>Q9UKV5</td>\n",
       "      <td>AMFR</td>\n",
       "      <td></td>\n",
       "      <td>...</td>\n",
       "      <td>2</td>\n",
       "      <td>Q9UKV5</td>\n",
       "      <td>MPLLFLERFPWPSLRTYTGLSGLALLGTIISAYRALSQPEAGPGEP...</td>\n",
       "      <td>P60604</td>\n",
       "      <td>MAGTALKRLMAEYKQLTLNPPEGIVAGPMNEENFFEWEALIMGPED...</td>\n",
       "      <td>MPLLFLERFPWPSLRTYTGLSGLALLGTIISAYRALSQPEAGPGEP...</td>\n",
       "      <td>2</td>\n",
       "      <td>RKLPCGHLFHNSCLRSWLEQDTSCPTCRMSLNIADNNRVREEHQGE...</td>\n",
       "      <td>RKLPCGHLFHNSCLRSWLEQDTSCPDCRMSLNIADNNRVREEHQGE...</td>\n",
       "      <td>Q9UKV5_p.Thr377Asp</td>\n",
       "    </tr>\n",
       "    <tr>\n",
       "      <th>4</th>\n",
       "      <td>EBI-10041290</td>\n",
       "      <td>[379-379]</td>\n",
       "      <td>[R]</td>\n",
       "      <td>[E]</td>\n",
       "      <td>p.Arg379Glu</td>\n",
       "      <td>mutation decreasing(MI:0119)</td>\n",
       "      <td></td>\n",
       "      <td>Q9UKV5</td>\n",
       "      <td>AMFR</td>\n",
       "      <td></td>\n",
       "      <td>...</td>\n",
       "      <td>2</td>\n",
       "      <td>Q9UKV5</td>\n",
       "      <td>MPLLFLERFPWPSLRTYTGLSGLALLGTIISAYRALSQPEAGPGEP...</td>\n",
       "      <td>P60604</td>\n",
       "      <td>MAGTALKRLMAEYKQLTLNPPEGIVAGPMNEENFFEWEALIMGPED...</td>\n",
       "      <td>MPLLFLERFPWPSLRTYTGLSGLALLGTIISAYRALSQPEAGPGEP...</td>\n",
       "      <td>2</td>\n",
       "      <td>LPCGHLFHNSCLRSWLEQDTSCPTCRMSLNIADNNRVREEHQGENL...</td>\n",
       "      <td>LPCGHLFHNSCLRSWLEQDTSCPTCEMSLNIADNNRVREEHQGENL...</td>\n",
       "      <td>Q9UKV5_p.Arg379Glu</td>\n",
       "    </tr>\n",
       "  </tbody>\n",
       "</table>\n",
       "<p>5 rows × 26 columns</p>\n",
       "</div>"
      ],
      "text/plain": [
       "    #Feature AC Feature range(s) Original sequence Resulting sequence  \\\n",
       "0  EBI-10039489          [81-81]               [V]                [E]   \n",
       "1  EBI-10039495        [188-188]               [N]                [I]   \n",
       "2  EBI-10041181        [368-368]               [W]                [A]   \n",
       "3  EBI-10041190        [377-377]               [T]                [D]   \n",
       "4  EBI-10041290        [379-379]               [R]                [E]   \n",
       "\n",
       "  Feature short label                  Feature type Feature annotation  \\\n",
       "0          p.Val81Glu  mutation disrupting(MI:0573)                      \n",
       "1         p.Asn188Ile  mutation decreasing(MI:0119)                      \n",
       "2         p.Trp368Ala  mutation decreasing(MI:0119)                      \n",
       "3         p.Thr377Asp  mutation decreasing(MI:0119)                      \n",
       "4         p.Arg379Glu  mutation decreasing(MI:0119)                      \n",
       "\n",
       "  Affected protein AC Affected protein symbol Affected protein full name  \\\n",
       "0              P28795                    PEX3                              \n",
       "1              P28795                    PEX3                              \n",
       "2              Q9UKV5                    AMFR                              \n",
       "3              Q9UKV5                    AMFR                              \n",
       "4              Q9UKV5                    AMFR                              \n",
       "\n",
       "          ...         n_partner   mutAC  \\\n",
       "0         ...                 2  P28795   \n",
       "1         ...                 2  P28795   \n",
       "2         ...                 2  Q9UKV5   \n",
       "3         ...                 2  Q9UKV5   \n",
       "4         ...                 2  Q9UKV5   \n",
       "\n",
       "                                                mut0   parAC  \\\n",
       "0  MAPNQRSRSLLQRHRGKVLISLTGIAALFTTGSVVVFFVKRWLYKQ...  Q03694   \n",
       "1  MAPNQRSRSLLQRHRGKVLISLTGIAALFTTGSVVVFFVKRWLYKQ...  Q03694   \n",
       "2  MPLLFLERFPWPSLRTYTGLSGLALLGTIISAYRALSQPEAGPGEP...  P60604   \n",
       "3  MPLLFLERFPWPSLRTYTGLSGLALLGTIISAYRALSQPEAGPGEP...  P60604   \n",
       "4  MPLLFLERFPWPSLRTYTGLSGLALLGTIISAYRALSQPEAGPGEP...  P60604   \n",
       "\n",
       "                                                par0  \\\n",
       "0  MVLSRGETKKNSVRLTAKQEKKPQSTFQTLKQSLKLSNNKKLKQDS...   \n",
       "1  MVLSRGETKKNSVRLTAKQEKKPQSTFQTLKQSLKLSNNKKLKQDS...   \n",
       "2  MAGTALKRLMAEYKQLTLNPPEGIVAGPMNEENFFEWEALIMGPED...   \n",
       "3  MAGTALKRLMAEYKQLTLNPPEGIVAGPMNEENFFEWEALIMGPED...   \n",
       "4  MAGTALKRLMAEYKQLTLNPPEGIVAGPMNEENFFEWEALIMGPED...   \n",
       "\n",
       "                                                mut1  label  \\\n",
       "0  MAPNQRSRSLLQRHRGKVLISLTGIAALFTTGSVVVFFVKRWLYKQ...      1   \n",
       "1  MAPNQRSRSLLQRHRGKVLISLTGIAALFTTGSVVVFFVKRWLYKQ...      2   \n",
       "2  MPLLFLERFPWPSLRTYTGLSGLALLGTIISAYRALSQPEAGPGEP...      2   \n",
       "3  MPLLFLERFPWPSLRTYTGLSGLALLGTIISAYRALSQPEAGPGEP...      2   \n",
       "4  MPLLFLERFPWPSLRTYTGLSGLALLGTIISAYRALSQPEAGPGEP...      2   \n",
       "\n",
       "                                             mut0_51  \\\n",
       "0  IKEQIKRRFEQTQEDSLYTIYELLPVWRMVLNENDLNLDSIVTQLK...   \n",
       "1  NEYLDSAIKLTMQQENCNKLQNRFYNWVTSWWSDPEDKADDAMVMA...   \n",
       "2  ICWDSMQAARKLPCGHLFHNSCLRSWLEQDTSCPTCRMSLNIADNN...   \n",
       "3  RKLPCGHLFHNSCLRSWLEQDTSCPTCRMSLNIADNNRVREEHQGE...   \n",
       "4  LPCGHLFHNSCLRSWLEQDTSCPTCRMSLNIADNNRVREEHQGENL...   \n",
       "\n",
       "                                             mut1_51              mutAC1  \n",
       "0  IKEQIKRRFEQTQEDSLYTIYELLPEWRMVLNENDLNLDSIVTQLK...   P28795_p.Val81Glu  \n",
       "1  NEYLDSAIKLTMQQENCNKLQNRFYIWVTSWWSDPEDKADDAMVMA...  P28795_p.Asn188Ile  \n",
       "2  ICWDSMQAARKLPCGHLFHNSCLRSALEQDTSCPTCRMSLNIADNN...  Q9UKV5_p.Trp368Ala  \n",
       "3  RKLPCGHLFHNSCLRSWLEQDTSCPDCRMSLNIADNNRVREEHQGE...  Q9UKV5_p.Thr377Asp  \n",
       "4  LPCGHLFHNSCLRSWLEQDTSCPTCEMSLNIADNNRVREEHQGENL...  Q9UKV5_p.Arg379Glu  \n",
       "\n",
       "[5 rows x 26 columns]"
      ]
     },
     "execution_count": 39,
     "metadata": {},
     "output_type": "execute_result"
    }
   ],
   "source": [
    "df_s.head()"
   ]
  }
 ],
 "metadata": {
  "kernelspec": {
   "display_name": "dl",
   "language": "python",
   "name": "dl"
  },
  "language_info": {
   "codemirror_mode": {
    "name": "ipython",
    "version": 3
   },
   "file_extension": ".py",
   "mimetype": "text/x-python",
   "name": "python",
   "nbconvert_exporter": "python",
   "pygments_lexer": "ipython3",
   "version": "3.7.7"
  }
 },
 "nbformat": 4,
 "nbformat_minor": 4
}
